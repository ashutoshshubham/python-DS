{
 "cells": [
  {
   "cell_type": "code",
   "execution_count": 1,
   "metadata": {},
   "outputs": [],
   "source": [
    "import streamlit as st\n",
    "import pandas as pd\n",
    "import numpy as np\n",
    "import matplotlib.pyplot as plt\n",
    "import plotly.express as px\n",
    "from textblob import TextBlob\n",
    "import re"
   ]
  },
  {
   "cell_type": "code",
   "execution_count": 2,
   "metadata": {},
   "outputs": [],
   "source": [
    "def remove_mentions(tweet):\n",
    "    return re.sub('@[A-Za-z0-9_]+',\" \",tweet)\n",
    "\n",
    "def remove_hashtags(tweet): \n",
    "    return re.sub('#[A-Za-z0-9_]+',\" \",tweet)\n",
    "\n",
    "def remove_links(tweet): \n",
    "    tweet = re.sub('[()!?]',\" \",tweet)           \n",
    "    tweet = re.sub(r'http\\S+',\" \",tweet)         \n",
    "    tweet = re.sub(r'www.\\S+',\" \",tweet)         \n",
    "    tweet = re.sub(r'\\[.*?\\]',' ', tweet)        \n",
    "    return re.sub(r'[^a-z0-9]',\" \",tweet)         \n",
    "\n",
    "def get_sentiment(tweet):\n",
    "    blob = TextBlob(tweet)\n",
    "    return blob.sentiment.polarity\n",
    "\n",
    "def get_sentiment_name(sentiment):\n",
    "    if sentiment == 0:\n",
    "        return \"Neutral 😊\"\n",
    "    elif sentiment > 0:\n",
    "        return \"Positive🥳\"\n",
    "    else:\n",
    "        return \"Negative🤬\"\n",
    "\n",
    "def load_data():\n",
    "    df = pd.read_csv('Valorant.csv')\n",
    "    df.rename(columns={'Text':'Tweets'}, inplace = True)\n",
    "    df['Tweets'] = df['Tweets'].str.lower()\n",
    "    df['Tweets'] = df['Tweets'].apply(remove_hashtags)\n",
    "    df['Tweets'] = df['Tweets'].apply(remove_mentions)\n",
    "    df['Tweets'] = df['Tweets'].apply(remove_links)\n",
    "    df['Sentiment'] = df['Tweets'].apply(get_sentiment)\n",
    "    df['SentimentName'] = df[\"Sentiment\"].apply(get_sentiment_name)\n",
    "    return df"
   ]
  },
  {
   "cell_type": "code",
   "execution_count": 3,
   "metadata": {},
   "outputs": [
    {
     "data": {
      "text/html": [
       "<div>\n",
       "<style scoped>\n",
       "    .dataframe tbody tr th:only-of-type {\n",
       "        vertical-align: middle;\n",
       "    }\n",
       "\n",
       "    .dataframe tbody tr th {\n",
       "        vertical-align: top;\n",
       "    }\n",
       "\n",
       "    .dataframe thead th {\n",
       "        text-align: right;\n",
       "    }\n",
       "</style>\n",
       "<table border=\"1\" class=\"dataframe\">\n",
       "  <thead>\n",
       "    <tr style=\"text-align: right;\">\n",
       "      <th></th>\n",
       "      <th>Unnamed: 0</th>\n",
       "      <th>Date</th>\n",
       "      <th>Id</th>\n",
       "      <th>Tweets</th>\n",
       "      <th>Length</th>\n",
       "      <th>Likes</th>\n",
       "      <th>Retweets</th>\n",
       "      <th>Source</th>\n",
       "      <th>Sentiment</th>\n",
       "      <th>SentimentName</th>\n",
       "    </tr>\n",
       "  </thead>\n",
       "  <tbody>\n",
       "    <tr>\n",
       "      <th>0</th>\n",
       "      <td>0</td>\n",
       "      <td>02-03-2020 07:57</td>\n",
       "      <td>1.234390e+18</td>\n",
       "      <td>sommer 2020 2020         2020</td>\n",
       "      <td>53</td>\n",
       "      <td>89679</td>\n",
       "      <td>19958</td>\n",
       "      <td>playVALORANT</td>\n",
       "      <td>0.000000</td>\n",
       "      <td>Neutral 😊</td>\n",
       "    </tr>\n",
       "    <tr>\n",
       "      <th>1</th>\n",
       "      <td>1</td>\n",
       "      <td>02-03-2020 08:01</td>\n",
       "      <td>1.234390e+18</td>\n",
       "      <td>summer 2020  t  2020 verano de 2020</td>\n",
       "      <td>84</td>\n",
       "      <td>36545</td>\n",
       "      <td>7276</td>\n",
       "      <td>playVALORANT</td>\n",
       "      <td>0.000000</td>\n",
       "      <td>Neutral 😊</td>\n",
       "    </tr>\n",
       "    <tr>\n",
       "      <th>2</th>\n",
       "      <td>2</td>\n",
       "      <td>02-03-2020 20:40</td>\n",
       "      <td>1.234580e+18</td>\n",
       "      <td>thank you to everyone who has expressed intere...</td>\n",
       "      <td>139</td>\n",
       "      <td>31719</td>\n",
       "      <td>1312</td>\n",
       "      <td>playVALORANT</td>\n",
       "      <td>0.000000</td>\n",
       "      <td>Neutral 😊</td>\n",
       "    </tr>\n",
       "    <tr>\n",
       "      <th>3</th>\n",
       "      <td>3</td>\n",
       "      <td>02-03-2020 20:43</td>\n",
       "      <td>1.234580e+18</td>\n",
       "      <td>rt     lol            fps valorant            ...</td>\n",
       "      <td>140</td>\n",
       "      <td>0</td>\n",
       "      <td>4055</td>\n",
       "      <td>playVALORANT</td>\n",
       "      <td>0.800000</td>\n",
       "      <td>Positive🥳</td>\n",
       "    </tr>\n",
       "    <tr>\n",
       "      <th>4</th>\n",
       "      <td>4</td>\n",
       "      <td>02-03-2020 20:45</td>\n",
       "      <td>1.234580e+18</td>\n",
       "      <td>rt    for the past six years  riot games has b...</td>\n",
       "      <td>140</td>\n",
       "      <td>0</td>\n",
       "      <td>424</td>\n",
       "      <td>playVALORANT</td>\n",
       "      <td>-0.250000</td>\n",
       "      <td>Negative🤬</td>\n",
       "    </tr>\n",
       "    <tr>\n",
       "      <th>...</th>\n",
       "      <td>...</td>\n",
       "      <td>...</td>\n",
       "      <td>...</td>\n",
       "      <td>...</td>\n",
       "      <td>...</td>\n",
       "      <td>...</td>\n",
       "      <td>...</td>\n",
       "      <td>...</td>\n",
       "      <td>...</td>\n",
       "      <td>...</td>\n",
       "    </tr>\n",
       "    <tr>\n",
       "      <th>357</th>\n",
       "      <td>357</td>\n",
       "      <td>23-04-2020 17:00</td>\n",
       "      <td>1.253370e+18</td>\n",
       "      <td>omen     unknown  you thought you were safe</td>\n",
       "      <td>78</td>\n",
       "      <td>13258</td>\n",
       "      <td>1299</td>\n",
       "      <td>playVALORANT</td>\n",
       "      <td>0.200000</td>\n",
       "      <td>Positive🥳</td>\n",
       "    </tr>\n",
       "    <tr>\n",
       "      <th>358</th>\n",
       "      <td>358</td>\n",
       "      <td>23-04-2020 17:11</td>\n",
       "      <td>1.253370e+18</td>\n",
       "      <td>the official reveal video of omen is now live ...</td>\n",
       "      <td>117</td>\n",
       "      <td>291</td>\n",
       "      <td>21</td>\n",
       "      <td>ValorantUpdates</td>\n",
       "      <td>0.136364</td>\n",
       "      <td>Positive🥳</td>\n",
       "    </tr>\n",
       "    <tr>\n",
       "      <th>359</th>\n",
       "      <td>359</td>\n",
       "      <td>23-04-2020 17:13</td>\n",
       "      <td>1.253370e+18</td>\n",
       "      <td>here s more info on the best ways to use omen ...</td>\n",
       "      <td>83</td>\n",
       "      <td>50</td>\n",
       "      <td>2</td>\n",
       "      <td>ValorantUpdates</td>\n",
       "      <td>0.750000</td>\n",
       "      <td>Positive🥳</td>\n",
       "    </tr>\n",
       "    <tr>\n",
       "      <th>360</th>\n",
       "      <td>360</td>\n",
       "      <td>23-04-2020 18:55</td>\n",
       "      <td>1.253400e+18</td>\n",
       "      <td>track is  panic  by stefandr</td>\n",
       "      <td>30</td>\n",
       "      <td>977</td>\n",
       "      <td>17</td>\n",
       "      <td>playVALORANT</td>\n",
       "      <td>0.000000</td>\n",
       "      <td>Neutral 😊</td>\n",
       "    </tr>\n",
       "    <tr>\n",
       "      <th>361</th>\n",
       "      <td>361</td>\n",
       "      <td>23-04-2020 21:02</td>\n",
       "      <td>1.253430e+18</td>\n",
       "      <td>running into the same service issues with game...</td>\n",
       "      <td>128</td>\n",
       "      <td>7477</td>\n",
       "      <td>294</td>\n",
       "      <td>playVALORANT</td>\n",
       "      <td>-0.200000</td>\n",
       "      <td>Negative🤬</td>\n",
       "    </tr>\n",
       "  </tbody>\n",
       "</table>\n",
       "<p>362 rows × 10 columns</p>\n",
       "</div>"
      ],
      "text/plain": [
       "     Unnamed: 0              Date            Id  \\\n",
       "0             0  02-03-2020 07:57  1.234390e+18   \n",
       "1             1  02-03-2020 08:01  1.234390e+18   \n",
       "2             2  02-03-2020 20:40  1.234580e+18   \n",
       "3             3  02-03-2020 20:43  1.234580e+18   \n",
       "4             4  02-03-2020 20:45  1.234580e+18   \n",
       "..          ...               ...           ...   \n",
       "357         357  23-04-2020 17:00  1.253370e+18   \n",
       "358         358  23-04-2020 17:11  1.253370e+18   \n",
       "359         359  23-04-2020 17:13  1.253370e+18   \n",
       "360         360  23-04-2020 18:55  1.253400e+18   \n",
       "361         361  23-04-2020 21:02  1.253430e+18   \n",
       "\n",
       "                                                Tweets  Length  Likes  \\\n",
       "0                      sommer 2020 2020         2020        53  89679   \n",
       "1             summer 2020  t  2020 verano de 2020           84  36545   \n",
       "2    thank you to everyone who has expressed intere...     139  31719   \n",
       "3    rt     lol            fps valorant            ...     140      0   \n",
       "4    rt    for the past six years  riot games has b...     140      0   \n",
       "..                                                 ...     ...    ...   \n",
       "357   omen     unknown  you thought you were safe           78  13258   \n",
       "358  the official reveal video of omen is now live ...     117    291   \n",
       "359  here s more info on the best ways to use omen ...      83     50   \n",
       "360                     track is  panic  by stefandr        30    977   \n",
       "361  running into the same service issues with game...     128   7477   \n",
       "\n",
       "     Retweets           Source  Sentiment SentimentName  \n",
       "0       19958     playVALORANT   0.000000     Neutral 😊  \n",
       "1        7276     playVALORANT   0.000000     Neutral 😊  \n",
       "2        1312     playVALORANT   0.000000     Neutral 😊  \n",
       "3        4055     playVALORANT   0.800000     Positive🥳  \n",
       "4         424     playVALORANT  -0.250000     Negative🤬  \n",
       "..        ...              ...        ...           ...  \n",
       "357      1299     playVALORANT   0.200000     Positive🥳  \n",
       "358        21  ValorantUpdates   0.136364     Positive🥳  \n",
       "359         2  ValorantUpdates   0.750000     Positive🥳  \n",
       "360        17     playVALORANT   0.000000     Neutral 😊  \n",
       "361       294     playVALORANT  -0.200000     Negative🤬  \n",
       "\n",
       "[362 rows x 10 columns]"
      ]
     },
     "execution_count": 3,
     "metadata": {},
     "output_type": "execute_result"
    }
   ],
   "source": [
    "df = load_data()\n",
    "df"
   ]
  },
  {
   "cell_type": "code",
   "execution_count": 4,
   "metadata": {},
   "outputs": [
    {
     "data": {
      "text/html": [
       "<div>\n",
       "<style scoped>\n",
       "    .dataframe tbody tr th:only-of-type {\n",
       "        vertical-align: middle;\n",
       "    }\n",
       "\n",
       "    .dataframe tbody tr th {\n",
       "        vertical-align: top;\n",
       "    }\n",
       "\n",
       "    .dataframe thead th {\n",
       "        text-align: right;\n",
       "    }\n",
       "</style>\n",
       "<table border=\"1\" class=\"dataframe\">\n",
       "  <thead>\n",
       "    <tr style=\"text-align: right;\">\n",
       "      <th></th>\n",
       "      <th>index</th>\n",
       "      <th>SentimentName</th>\n",
       "      <th>Date</th>\n",
       "    </tr>\n",
       "  </thead>\n",
       "  <tbody>\n",
       "    <tr>\n",
       "      <th>0</th>\n",
       "      <td>0</td>\n",
       "      <td>Neutral 😊</td>\n",
       "      <td>02-03-2020 07:57</td>\n",
       "    </tr>\n",
       "    <tr>\n",
       "      <th>1</th>\n",
       "      <td>1</td>\n",
       "      <td>Neutral 😊</td>\n",
       "      <td>02-03-2020 08:01</td>\n",
       "    </tr>\n",
       "    <tr>\n",
       "      <th>2</th>\n",
       "      <td>2</td>\n",
       "      <td>Neutral 😊</td>\n",
       "      <td>02-03-2020 20:40</td>\n",
       "    </tr>\n",
       "    <tr>\n",
       "      <th>3</th>\n",
       "      <td>3</td>\n",
       "      <td>Positive🥳</td>\n",
       "      <td>02-03-2020 20:43</td>\n",
       "    </tr>\n",
       "    <tr>\n",
       "      <th>4</th>\n",
       "      <td>4</td>\n",
       "      <td>Negative🤬</td>\n",
       "      <td>02-03-2020 20:45</td>\n",
       "    </tr>\n",
       "    <tr>\n",
       "      <th>...</th>\n",
       "      <td>...</td>\n",
       "      <td>...</td>\n",
       "      <td>...</td>\n",
       "    </tr>\n",
       "    <tr>\n",
       "      <th>357</th>\n",
       "      <td>357</td>\n",
       "      <td>Positive🥳</td>\n",
       "      <td>23-04-2020 17:00</td>\n",
       "    </tr>\n",
       "    <tr>\n",
       "      <th>358</th>\n",
       "      <td>358</td>\n",
       "      <td>Positive🥳</td>\n",
       "      <td>23-04-2020 17:11</td>\n",
       "    </tr>\n",
       "    <tr>\n",
       "      <th>359</th>\n",
       "      <td>359</td>\n",
       "      <td>Positive🥳</td>\n",
       "      <td>23-04-2020 17:13</td>\n",
       "    </tr>\n",
       "    <tr>\n",
       "      <th>360</th>\n",
       "      <td>360</td>\n",
       "      <td>Neutral 😊</td>\n",
       "      <td>23-04-2020 18:55</td>\n",
       "    </tr>\n",
       "    <tr>\n",
       "      <th>361</th>\n",
       "      <td>361</td>\n",
       "      <td>Negative🤬</td>\n",
       "      <td>23-04-2020 21:02</td>\n",
       "    </tr>\n",
       "  </tbody>\n",
       "</table>\n",
       "<p>362 rows × 3 columns</p>\n",
       "</div>"
      ],
      "text/plain": [
       "     index SentimentName              Date\n",
       "0        0     Neutral 😊  02-03-2020 07:57\n",
       "1        1     Neutral 😊  02-03-2020 08:01\n",
       "2        2     Neutral 😊  02-03-2020 20:40\n",
       "3        3     Positive🥳  02-03-2020 20:43\n",
       "4        4     Negative🤬  02-03-2020 20:45\n",
       "..     ...           ...               ...\n",
       "357    357     Positive🥳  23-04-2020 17:00\n",
       "358    358     Positive🥳  23-04-2020 17:11\n",
       "359    359     Positive🥳  23-04-2020 17:13\n",
       "360    360     Neutral 😊  23-04-2020 18:55\n",
       "361    361     Negative🤬  23-04-2020 21:02\n",
       "\n",
       "[362 rows x 3 columns]"
      ]
     },
     "execution_count": 4,
     "metadata": {},
     "output_type": "execute_result"
    }
   ],
   "source": [
    "counter = df.SentimentName.reset_index()\n",
    "c1,c2 = st.columns([1,3])\n",
    "# c1.write(counter)\n",
    "counter.value_counts()\n",
    "counter['Date'] = df['Date']\n",
    "# counter.set_index('Date')\n",
    "counter"
   ]
  },
  {
   "cell_type": "code",
   "execution_count": 5,
   "metadata": {},
   "outputs": [],
   "source": [
    "# counter.set_index('Date',inplace= True)\n",
    "# counter"
   ]
  },
  {
   "cell_type": "code",
   "execution_count": 6,
   "metadata": {},
   "outputs": [
    {
     "data": {
      "text/html": [
       "<div>\n",
       "<style scoped>\n",
       "    .dataframe tbody tr th:only-of-type {\n",
       "        vertical-align: middle;\n",
       "    }\n",
       "\n",
       "    .dataframe tbody tr th {\n",
       "        vertical-align: top;\n",
       "    }\n",
       "\n",
       "    .dataframe thead th {\n",
       "        text-align: right;\n",
       "    }\n",
       "</style>\n",
       "<table border=\"1\" class=\"dataframe\">\n",
       "  <thead>\n",
       "    <tr style=\"text-align: right;\">\n",
       "      <th></th>\n",
       "      <th>index</th>\n",
       "      <th>SentimentName</th>\n",
       "      <th>Date</th>\n",
       "    </tr>\n",
       "  </thead>\n",
       "  <tbody>\n",
       "    <tr>\n",
       "      <th>0</th>\n",
       "      <td>0</td>\n",
       "      <td>Neutral 😊</td>\n",
       "      <td>02-03-2020 07:57</td>\n",
       "    </tr>\n",
       "    <tr>\n",
       "      <th>1</th>\n",
       "      <td>1</td>\n",
       "      <td>Neutral 😊</td>\n",
       "      <td>02-03-2020 08:01</td>\n",
       "    </tr>\n",
       "    <tr>\n",
       "      <th>2</th>\n",
       "      <td>2</td>\n",
       "      <td>Neutral 😊</td>\n",
       "      <td>02-03-2020 20:40</td>\n",
       "    </tr>\n",
       "    <tr>\n",
       "      <th>3</th>\n",
       "      <td>3</td>\n",
       "      <td>Positive🥳</td>\n",
       "      <td>02-03-2020 20:43</td>\n",
       "    </tr>\n",
       "    <tr>\n",
       "      <th>4</th>\n",
       "      <td>4</td>\n",
       "      <td>Negative🤬</td>\n",
       "      <td>02-03-2020 20:45</td>\n",
       "    </tr>\n",
       "    <tr>\n",
       "      <th>...</th>\n",
       "      <td>...</td>\n",
       "      <td>...</td>\n",
       "      <td>...</td>\n",
       "    </tr>\n",
       "    <tr>\n",
       "      <th>327</th>\n",
       "      <td>327</td>\n",
       "      <td>Positive🥳</td>\n",
       "      <td>20-04-2020 22:04</td>\n",
       "    </tr>\n",
       "    <tr>\n",
       "      <th>328</th>\n",
       "      <td>328</td>\n",
       "      <td>Positive🥳</td>\n",
       "      <td>20-04-2020 22:06</td>\n",
       "    </tr>\n",
       "    <tr>\n",
       "      <th>329</th>\n",
       "      <td>329</td>\n",
       "      <td>Positive🥳</td>\n",
       "      <td>20-04-2020 23:21</td>\n",
       "    </tr>\n",
       "    <tr>\n",
       "      <th>330</th>\n",
       "      <td>330</td>\n",
       "      <td>Neutral 😊</td>\n",
       "      <td>20-04-2020 23:30</td>\n",
       "    </tr>\n",
       "    <tr>\n",
       "      <th>331</th>\n",
       "      <td>331</td>\n",
       "      <td>Neutral 😊</td>\n",
       "      <td>20-04-2020 23:42</td>\n",
       "    </tr>\n",
       "  </tbody>\n",
       "</table>\n",
       "<p>315 rows × 3 columns</p>\n",
       "</div>"
      ],
      "text/plain": [
       "     index SentimentName              Date\n",
       "0        0     Neutral 😊  02-03-2020 07:57\n",
       "1        1     Neutral 😊  02-03-2020 08:01\n",
       "2        2     Neutral 😊  02-03-2020 20:40\n",
       "3        3     Positive🥳  02-03-2020 20:43\n",
       "4        4     Negative🤬  02-03-2020 20:45\n",
       "..     ...           ...               ...\n",
       "327    327     Positive🥳  20-04-2020 22:04\n",
       "328    328     Positive🥳  20-04-2020 22:06\n",
       "329    329     Positive🥳  20-04-2020 23:21\n",
       "330    330     Neutral 😊  20-04-2020 23:30\n",
       "331    331     Neutral 😊  20-04-2020 23:42\n",
       "\n",
       "[315 rows x 3 columns]"
      ]
     },
     "execution_count": 6,
     "metadata": {},
     "output_type": "execute_result"
    }
   ],
   "source": [
    "counter[counter['Date']<='2020-02-04']"
   ]
  },
  {
   "cell_type": "code",
   "execution_count": 7,
   "metadata": {},
   "outputs": [],
   "source": [
    "counter = pd.concat([counter,pd.get_dummies(counter['SentimentName'])], axis=1)"
   ]
  },
  {
   "cell_type": "code",
   "execution_count": 8,
   "metadata": {},
   "outputs": [],
   "source": [
    "counter['Date'] = pd.to_datetime(counter['Date'])\n",
    "counterdf = counter.set_index('Date').resample('D').sum()\n",
    "counterdf.replace(0,np.nan,inplace=True)"
   ]
  },
  {
   "cell_type": "code",
   "execution_count": 9,
   "metadata": {},
   "outputs": [],
   "source": [
    "counterdf.dropna(how='all',inplace=True)"
   ]
  },
  {
   "cell_type": "code",
   "execution_count": 10,
   "metadata": {},
   "outputs": [
    {
     "data": {
      "application/vnd.plotly.v1+json": {
       "config": {
        "plotlyServerURL": "https://plot.ly"
       },
       "data": [
        {
         "hovertemplate": "variable=Negative🤬<br>Date=%{x}<br>value=%{y}<extra></extra>",
         "legendgroup": "Negative🤬",
         "marker": {
          "color": "#636efa"
         },
         "name": "Negative🤬",
         "orientation": "v",
         "showlegend": true,
         "type": "funnel",
         "x": [
          "2020-01-04T00:00:00",
          "2020-02-03T00:00:00",
          "2020-02-04T00:00:00",
          "2020-03-03T00:00:00",
          "2020-03-04T00:00:00",
          "2020-03-19T00:00:00",
          "2020-03-20T00:00:00",
          "2020-03-23T00:00:00",
          "2020-03-26T00:00:00",
          "2020-03-30T00:00:00",
          "2020-03-31T00:00:00",
          "2020-04-03T00:00:00",
          "2020-04-04T00:00:00",
          "2020-04-13T00:00:00",
          "2020-04-14T00:00:00",
          "2020-04-15T00:00:00",
          "2020-04-16T00:00:00",
          "2020-04-17T00:00:00",
          "2020-04-18T00:00:00",
          "2020-04-19T00:00:00",
          "2020-04-20T00:00:00",
          "2020-04-21T00:00:00",
          "2020-04-22T00:00:00",
          "2020-04-23T00:00:00",
          "2020-05-03T00:00:00",
          "2020-05-04T00:00:00",
          "2020-06-04T00:00:00",
          "2020-07-04T00:00:00",
          "2020-08-04T00:00:00",
          "2020-09-04T00:00:00",
          "2020-10-04T00:00:00",
          "2020-11-04T00:00:00",
          "2020-12-03T00:00:00",
          "2020-12-04T00:00:00"
         ],
         "xaxis": "x",
         "y": [
          1,
          1,
          1,
          null,
          7,
          null,
          null,
          null,
          null,
          null,
          1,
          null,
          1,
          1,
          5,
          3,
          null,
          null,
          null,
          null,
          1,
          4,
          null,
          4,
          null,
          3,
          5,
          13,
          8,
          4,
          2,
          null,
          null,
          1
         ],
         "yaxis": "y"
        },
        {
         "hovertemplate": "variable=Neutral 😊<br>Date=%{x}<br>value=%{y}<extra></extra>",
         "legendgroup": "Neutral 😊",
         "marker": {
          "color": "#EF553B"
         },
         "name": "Neutral 😊",
         "orientation": "v",
         "showlegend": true,
         "type": "funnel",
         "x": [
          "2020-01-04T00:00:00",
          "2020-02-03T00:00:00",
          "2020-02-04T00:00:00",
          "2020-03-03T00:00:00",
          "2020-03-04T00:00:00",
          "2020-03-19T00:00:00",
          "2020-03-20T00:00:00",
          "2020-03-23T00:00:00",
          "2020-03-26T00:00:00",
          "2020-03-30T00:00:00",
          "2020-03-31T00:00:00",
          "2020-04-03T00:00:00",
          "2020-04-04T00:00:00",
          "2020-04-13T00:00:00",
          "2020-04-14T00:00:00",
          "2020-04-15T00:00:00",
          "2020-04-16T00:00:00",
          "2020-04-17T00:00:00",
          "2020-04-18T00:00:00",
          "2020-04-19T00:00:00",
          "2020-04-20T00:00:00",
          "2020-04-21T00:00:00",
          "2020-04-22T00:00:00",
          "2020-04-23T00:00:00",
          "2020-05-03T00:00:00",
          "2020-05-04T00:00:00",
          "2020-06-04T00:00:00",
          "2020-07-04T00:00:00",
          "2020-08-04T00:00:00",
          "2020-09-04T00:00:00",
          "2020-10-04T00:00:00",
          "2020-11-04T00:00:00",
          "2020-12-03T00:00:00",
          "2020-12-04T00:00:00"
         ],
         "xaxis": "x",
         "y": [
          1,
          5,
          4,
          1,
          30,
          1,
          1,
          1,
          7,
          2,
          1,
          1,
          2,
          1,
          2,
          6,
          5,
          4,
          3,
          2,
          4,
          4,
          4,
          1,
          1,
          3,
          6,
          24,
          8,
          8,
          3,
          6,
          null,
          2
         ],
         "yaxis": "y"
        },
        {
         "hovertemplate": "variable=Positive🥳<br>Date=%{x}<br>value=%{y}<extra></extra>",
         "legendgroup": "Positive🥳",
         "marker": {
          "color": "#00cc96"
         },
         "name": "Positive🥳",
         "orientation": "v",
         "showlegend": true,
         "type": "funnel",
         "x": [
          "2020-01-04T00:00:00",
          "2020-02-03T00:00:00",
          "2020-02-04T00:00:00",
          "2020-03-03T00:00:00",
          "2020-03-04T00:00:00",
          "2020-03-19T00:00:00",
          "2020-03-20T00:00:00",
          "2020-03-23T00:00:00",
          "2020-03-26T00:00:00",
          "2020-03-30T00:00:00",
          "2020-03-31T00:00:00",
          "2020-04-03T00:00:00",
          "2020-04-04T00:00:00",
          "2020-04-13T00:00:00",
          "2020-04-14T00:00:00",
          "2020-04-15T00:00:00",
          "2020-04-16T00:00:00",
          "2020-04-17T00:00:00",
          "2020-04-18T00:00:00",
          "2020-04-19T00:00:00",
          "2020-04-20T00:00:00",
          "2020-04-21T00:00:00",
          "2020-04-22T00:00:00",
          "2020-04-23T00:00:00",
          "2020-05-03T00:00:00",
          "2020-05-04T00:00:00",
          "2020-06-04T00:00:00",
          "2020-07-04T00:00:00",
          "2020-08-04T00:00:00",
          "2020-09-04T00:00:00",
          "2020-10-04T00:00:00",
          "2020-11-04T00:00:00",
          "2020-12-03T00:00:00",
          "2020-12-04T00:00:00"
         ],
         "xaxis": "x",
         "y": [
          1,
          2,
          4,
          2,
          27,
          null,
          null,
          null,
          1,
          4,
          null,
          1,
          3,
          4,
          6,
          9,
          2,
          2,
          3,
          1,
          7,
          4,
          5,
          4,
          null,
          2,
          5,
          17,
          7,
          14,
          1,
          1,
          1,
          2
         ],
         "yaxis": "y"
        }
       ],
       "layout": {
        "legend": {
         "title": {
          "text": "variable"
         },
         "tracegroupgap": 0
        },
        "margin": {
         "t": 60
        },
        "template": {
         "data": {
          "bar": [
           {
            "error_x": {
             "color": "#2a3f5f"
            },
            "error_y": {
             "color": "#2a3f5f"
            },
            "marker": {
             "line": {
              "color": "#E5ECF6",
              "width": 0.5
             },
             "pattern": {
              "fillmode": "overlay",
              "size": 10,
              "solidity": 0.2
             }
            },
            "type": "bar"
           }
          ],
          "barpolar": [
           {
            "marker": {
             "line": {
              "color": "#E5ECF6",
              "width": 0.5
             },
             "pattern": {
              "fillmode": "overlay",
              "size": 10,
              "solidity": 0.2
             }
            },
            "type": "barpolar"
           }
          ],
          "carpet": [
           {
            "aaxis": {
             "endlinecolor": "#2a3f5f",
             "gridcolor": "white",
             "linecolor": "white",
             "minorgridcolor": "white",
             "startlinecolor": "#2a3f5f"
            },
            "baxis": {
             "endlinecolor": "#2a3f5f",
             "gridcolor": "white",
             "linecolor": "white",
             "minorgridcolor": "white",
             "startlinecolor": "#2a3f5f"
            },
            "type": "carpet"
           }
          ],
          "choropleth": [
           {
            "colorbar": {
             "outlinewidth": 0,
             "ticks": ""
            },
            "type": "choropleth"
           }
          ],
          "contour": [
           {
            "colorbar": {
             "outlinewidth": 0,
             "ticks": ""
            },
            "colorscale": [
             [
              0,
              "#0d0887"
             ],
             [
              0.1111111111111111,
              "#46039f"
             ],
             [
              0.2222222222222222,
              "#7201a8"
             ],
             [
              0.3333333333333333,
              "#9c179e"
             ],
             [
              0.4444444444444444,
              "#bd3786"
             ],
             [
              0.5555555555555556,
              "#d8576b"
             ],
             [
              0.6666666666666666,
              "#ed7953"
             ],
             [
              0.7777777777777778,
              "#fb9f3a"
             ],
             [
              0.8888888888888888,
              "#fdca26"
             ],
             [
              1,
              "#f0f921"
             ]
            ],
            "type": "contour"
           }
          ],
          "contourcarpet": [
           {
            "colorbar": {
             "outlinewidth": 0,
             "ticks": ""
            },
            "type": "contourcarpet"
           }
          ],
          "heatmap": [
           {
            "colorbar": {
             "outlinewidth": 0,
             "ticks": ""
            },
            "colorscale": [
             [
              0,
              "#0d0887"
             ],
             [
              0.1111111111111111,
              "#46039f"
             ],
             [
              0.2222222222222222,
              "#7201a8"
             ],
             [
              0.3333333333333333,
              "#9c179e"
             ],
             [
              0.4444444444444444,
              "#bd3786"
             ],
             [
              0.5555555555555556,
              "#d8576b"
             ],
             [
              0.6666666666666666,
              "#ed7953"
             ],
             [
              0.7777777777777778,
              "#fb9f3a"
             ],
             [
              0.8888888888888888,
              "#fdca26"
             ],
             [
              1,
              "#f0f921"
             ]
            ],
            "type": "heatmap"
           }
          ],
          "heatmapgl": [
           {
            "colorbar": {
             "outlinewidth": 0,
             "ticks": ""
            },
            "colorscale": [
             [
              0,
              "#0d0887"
             ],
             [
              0.1111111111111111,
              "#46039f"
             ],
             [
              0.2222222222222222,
              "#7201a8"
             ],
             [
              0.3333333333333333,
              "#9c179e"
             ],
             [
              0.4444444444444444,
              "#bd3786"
             ],
             [
              0.5555555555555556,
              "#d8576b"
             ],
             [
              0.6666666666666666,
              "#ed7953"
             ],
             [
              0.7777777777777778,
              "#fb9f3a"
             ],
             [
              0.8888888888888888,
              "#fdca26"
             ],
             [
              1,
              "#f0f921"
             ]
            ],
            "type": "heatmapgl"
           }
          ],
          "histogram": [
           {
            "marker": {
             "pattern": {
              "fillmode": "overlay",
              "size": 10,
              "solidity": 0.2
             }
            },
            "type": "histogram"
           }
          ],
          "histogram2d": [
           {
            "colorbar": {
             "outlinewidth": 0,
             "ticks": ""
            },
            "colorscale": [
             [
              0,
              "#0d0887"
             ],
             [
              0.1111111111111111,
              "#46039f"
             ],
             [
              0.2222222222222222,
              "#7201a8"
             ],
             [
              0.3333333333333333,
              "#9c179e"
             ],
             [
              0.4444444444444444,
              "#bd3786"
             ],
             [
              0.5555555555555556,
              "#d8576b"
             ],
             [
              0.6666666666666666,
              "#ed7953"
             ],
             [
              0.7777777777777778,
              "#fb9f3a"
             ],
             [
              0.8888888888888888,
              "#fdca26"
             ],
             [
              1,
              "#f0f921"
             ]
            ],
            "type": "histogram2d"
           }
          ],
          "histogram2dcontour": [
           {
            "colorbar": {
             "outlinewidth": 0,
             "ticks": ""
            },
            "colorscale": [
             [
              0,
              "#0d0887"
             ],
             [
              0.1111111111111111,
              "#46039f"
             ],
             [
              0.2222222222222222,
              "#7201a8"
             ],
             [
              0.3333333333333333,
              "#9c179e"
             ],
             [
              0.4444444444444444,
              "#bd3786"
             ],
             [
              0.5555555555555556,
              "#d8576b"
             ],
             [
              0.6666666666666666,
              "#ed7953"
             ],
             [
              0.7777777777777778,
              "#fb9f3a"
             ],
             [
              0.8888888888888888,
              "#fdca26"
             ],
             [
              1,
              "#f0f921"
             ]
            ],
            "type": "histogram2dcontour"
           }
          ],
          "mesh3d": [
           {
            "colorbar": {
             "outlinewidth": 0,
             "ticks": ""
            },
            "type": "mesh3d"
           }
          ],
          "parcoords": [
           {
            "line": {
             "colorbar": {
              "outlinewidth": 0,
              "ticks": ""
             }
            },
            "type": "parcoords"
           }
          ],
          "pie": [
           {
            "automargin": true,
            "type": "pie"
           }
          ],
          "scatter": [
           {
            "fillpattern": {
             "fillmode": "overlay",
             "size": 10,
             "solidity": 0.2
            },
            "type": "scatter"
           }
          ],
          "scatter3d": [
           {
            "line": {
             "colorbar": {
              "outlinewidth": 0,
              "ticks": ""
             }
            },
            "marker": {
             "colorbar": {
              "outlinewidth": 0,
              "ticks": ""
             }
            },
            "type": "scatter3d"
           }
          ],
          "scattercarpet": [
           {
            "marker": {
             "colorbar": {
              "outlinewidth": 0,
              "ticks": ""
             }
            },
            "type": "scattercarpet"
           }
          ],
          "scattergeo": [
           {
            "marker": {
             "colorbar": {
              "outlinewidth": 0,
              "ticks": ""
             }
            },
            "type": "scattergeo"
           }
          ],
          "scattergl": [
           {
            "marker": {
             "colorbar": {
              "outlinewidth": 0,
              "ticks": ""
             }
            },
            "type": "scattergl"
           }
          ],
          "scattermapbox": [
           {
            "marker": {
             "colorbar": {
              "outlinewidth": 0,
              "ticks": ""
             }
            },
            "type": "scattermapbox"
           }
          ],
          "scatterpolar": [
           {
            "marker": {
             "colorbar": {
              "outlinewidth": 0,
              "ticks": ""
             }
            },
            "type": "scatterpolar"
           }
          ],
          "scatterpolargl": [
           {
            "marker": {
             "colorbar": {
              "outlinewidth": 0,
              "ticks": ""
             }
            },
            "type": "scatterpolargl"
           }
          ],
          "scatterternary": [
           {
            "marker": {
             "colorbar": {
              "outlinewidth": 0,
              "ticks": ""
             }
            },
            "type": "scatterternary"
           }
          ],
          "surface": [
           {
            "colorbar": {
             "outlinewidth": 0,
             "ticks": ""
            },
            "colorscale": [
             [
              0,
              "#0d0887"
             ],
             [
              0.1111111111111111,
              "#46039f"
             ],
             [
              0.2222222222222222,
              "#7201a8"
             ],
             [
              0.3333333333333333,
              "#9c179e"
             ],
             [
              0.4444444444444444,
              "#bd3786"
             ],
             [
              0.5555555555555556,
              "#d8576b"
             ],
             [
              0.6666666666666666,
              "#ed7953"
             ],
             [
              0.7777777777777778,
              "#fb9f3a"
             ],
             [
              0.8888888888888888,
              "#fdca26"
             ],
             [
              1,
              "#f0f921"
             ]
            ],
            "type": "surface"
           }
          ],
          "table": [
           {
            "cells": {
             "fill": {
              "color": "#EBF0F8"
             },
             "line": {
              "color": "white"
             }
            },
            "header": {
             "fill": {
              "color": "#C8D4E3"
             },
             "line": {
              "color": "white"
             }
            },
            "type": "table"
           }
          ]
         },
         "layout": {
          "annotationdefaults": {
           "arrowcolor": "#2a3f5f",
           "arrowhead": 0,
           "arrowwidth": 1
          },
          "autotypenumbers": "strict",
          "coloraxis": {
           "colorbar": {
            "outlinewidth": 0,
            "ticks": ""
           }
          },
          "colorscale": {
           "diverging": [
            [
             0,
             "#8e0152"
            ],
            [
             0.1,
             "#c51b7d"
            ],
            [
             0.2,
             "#de77ae"
            ],
            [
             0.3,
             "#f1b6da"
            ],
            [
             0.4,
             "#fde0ef"
            ],
            [
             0.5,
             "#f7f7f7"
            ],
            [
             0.6,
             "#e6f5d0"
            ],
            [
             0.7,
             "#b8e186"
            ],
            [
             0.8,
             "#7fbc41"
            ],
            [
             0.9,
             "#4d9221"
            ],
            [
             1,
             "#276419"
            ]
           ],
           "sequential": [
            [
             0,
             "#0d0887"
            ],
            [
             0.1111111111111111,
             "#46039f"
            ],
            [
             0.2222222222222222,
             "#7201a8"
            ],
            [
             0.3333333333333333,
             "#9c179e"
            ],
            [
             0.4444444444444444,
             "#bd3786"
            ],
            [
             0.5555555555555556,
             "#d8576b"
            ],
            [
             0.6666666666666666,
             "#ed7953"
            ],
            [
             0.7777777777777778,
             "#fb9f3a"
            ],
            [
             0.8888888888888888,
             "#fdca26"
            ],
            [
             1,
             "#f0f921"
            ]
           ],
           "sequentialminus": [
            [
             0,
             "#0d0887"
            ],
            [
             0.1111111111111111,
             "#46039f"
            ],
            [
             0.2222222222222222,
             "#7201a8"
            ],
            [
             0.3333333333333333,
             "#9c179e"
            ],
            [
             0.4444444444444444,
             "#bd3786"
            ],
            [
             0.5555555555555556,
             "#d8576b"
            ],
            [
             0.6666666666666666,
             "#ed7953"
            ],
            [
             0.7777777777777778,
             "#fb9f3a"
            ],
            [
             0.8888888888888888,
             "#fdca26"
            ],
            [
             1,
             "#f0f921"
            ]
           ]
          },
          "colorway": [
           "#636efa",
           "#EF553B",
           "#00cc96",
           "#ab63fa",
           "#FFA15A",
           "#19d3f3",
           "#FF6692",
           "#B6E880",
           "#FF97FF",
           "#FECB52"
          ],
          "font": {
           "color": "#2a3f5f"
          },
          "geo": {
           "bgcolor": "white",
           "lakecolor": "white",
           "landcolor": "#E5ECF6",
           "showlakes": true,
           "showland": true,
           "subunitcolor": "white"
          },
          "hoverlabel": {
           "align": "left"
          },
          "hovermode": "closest",
          "mapbox": {
           "style": "light"
          },
          "paper_bgcolor": "white",
          "plot_bgcolor": "#E5ECF6",
          "polar": {
           "angularaxis": {
            "gridcolor": "white",
            "linecolor": "white",
            "ticks": ""
           },
           "bgcolor": "#E5ECF6",
           "radialaxis": {
            "gridcolor": "white",
            "linecolor": "white",
            "ticks": ""
           }
          },
          "scene": {
           "xaxis": {
            "backgroundcolor": "#E5ECF6",
            "gridcolor": "white",
            "gridwidth": 2,
            "linecolor": "white",
            "showbackground": true,
            "ticks": "",
            "zerolinecolor": "white"
           },
           "yaxis": {
            "backgroundcolor": "#E5ECF6",
            "gridcolor": "white",
            "gridwidth": 2,
            "linecolor": "white",
            "showbackground": true,
            "ticks": "",
            "zerolinecolor": "white"
           },
           "zaxis": {
            "backgroundcolor": "#E5ECF6",
            "gridcolor": "white",
            "gridwidth": 2,
            "linecolor": "white",
            "showbackground": true,
            "ticks": "",
            "zerolinecolor": "white"
           }
          },
          "shapedefaults": {
           "line": {
            "color": "#2a3f5f"
           }
          },
          "ternary": {
           "aaxis": {
            "gridcolor": "white",
            "linecolor": "white",
            "ticks": ""
           },
           "baxis": {
            "gridcolor": "white",
            "linecolor": "white",
            "ticks": ""
           },
           "bgcolor": "#E5ECF6",
           "caxis": {
            "gridcolor": "white",
            "linecolor": "white",
            "ticks": ""
           }
          },
          "title": {
           "x": 0.05
          },
          "xaxis": {
           "automargin": true,
           "gridcolor": "white",
           "linecolor": "white",
           "ticks": "",
           "title": {
            "standoff": 15
           },
           "zerolinecolor": "white",
           "zerolinewidth": 2
          },
          "yaxis": {
           "automargin": true,
           "gridcolor": "white",
           "linecolor": "white",
           "ticks": "",
           "title": {
            "standoff": 15
           },
           "zerolinecolor": "white",
           "zerolinewidth": 2
          }
         }
        },
        "xaxis": {
         "anchor": "y",
         "domain": [
          0,
          1
         ],
         "title": {
          "text": "Date"
         }
        },
        "yaxis": {
         "anchor": "x",
         "domain": [
          0,
          1
         ],
         "title": {
          "text": "value"
         }
        }
       }
      }
     },
     "metadata": {},
     "output_type": "display_data"
    }
   ],
   "source": [
    "px.funnel(counterdf, counterdf.index, ['Negative🤬','Neutral 😊','Positive🥳'])"
   ]
  },
  {
   "cell_type": "code",
   "execution_count": null,
   "metadata": {},
   "outputs": [],
   "source": []
  }
 ],
 "metadata": {
  "kernelspec": {
   "display_name": "Python 3.9.13 ('base')",
   "language": "python",
   "name": "python3"
  },
  "language_info": {
   "codemirror_mode": {
    "name": "ipython",
    "version": 3
   },
   "file_extension": ".py",
   "mimetype": "text/x-python",
   "name": "python",
   "nbconvert_exporter": "python",
   "pygments_lexer": "ipython3",
   "version": "3.9.13"
  },
  "orig_nbformat": 4,
  "vscode": {
   "interpreter": {
    "hash": "70f018fd7121d982665974a4a43426885471417973fa08103dfbe522c14d001e"
   }
  }
 },
 "nbformat": 4,
 "nbformat_minor": 2
}
