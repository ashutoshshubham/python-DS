{
 "cells": [
  {
   "cell_type": "code",
   "execution_count": 1,
   "metadata": {},
   "outputs": [],
   "source": [
    "#https://pypi.org/project/dputils/\n",
    "\n",
    "# 3. exract_many\n",
    "\n",
    "#References for more help: https://github.com/digipodium/dputils\n",
    "\n",
    "\n",
    "from dputils.scrape import extract_many, get_webpage_data"
   ]
  },
  {
   "cell_type": "code",
   "execution_count": 2,
   "metadata": {},
   "outputs": [],
   "source": [
    "url = \"https://www.flipkart.com/search?q=mobiles&otracker=search&otracker1=search&marketplace=FLIPKART&as-show=on&as=off\"\n",
    "soup = get_webpage_data(url)"
   ]
  },
  {
   "cell_type": "code",
   "execution_count": 3,
   "metadata": {},
   "outputs": [],
   "source": [
    "target = {\n",
    "'tag': 'div',\n",
    "'attrs':{'class':'_1YokD2 _3Mn1Gg'}\n",
    "}\n",
    "items = {\n",
    "    'tag': 'div',\n",
    "    'attrs':{'class':'_1AtVbE col-12-12'}\n",
    "}\n",
    "title = {\n",
    "    'tag': 'div',\n",
    "    'attrs':{'class':'_4rR01T'}\n",
    "}\n",
    "price = {\n",
    "    'tag': 'div',\n",
    "    'attrs':{'class':'_30jeq3 _1_WHN1'}\n",
    "}\n",
    "rating = {\n",
    "    'tag': 'div',\n",
    "    'attrs':{'class':'_3LWZlK'}\n",
    "}\n",
    "link = {\n",
    "    'tag': 'a',\n",
    "    'attrs':{'class':'_1fQZEK'},\n",
    "    'output':'href'\n",
    "}"
   ]
  },
  {
   "cell_type": "code",
   "execution_count": 5,
   "metadata": {},
   "outputs": [
    {
     "name": "stdout",
     "output_type": "stream",
     "text": [
      "26 items found\n",
      "Item skipped at index: 24\n",
      "Item skipped at index: 25\n",
      "All items extracted\n",
      "[{'title': 'SAMSUNG Galaxy F22 (Denim Blue, 64 GB)', 'price': '₹10,499', 'rating': '4.3', 'link': '/samsung-galaxy-f22-denim-blue-64-gb/p/itmce0a6baf0d54d?pid=MOBG43UGBTGGB99V&lid=LSTMOBG43UGBTGGB99VLZACSD&marketplace=FLIPKART&q=mobiles&store=tyy%2F4io&srno=s_1_1&otracker=search&otracker1=search&fm=organic&iid=c2497a6f-99e5-4f6e-b6cf-8fe232c5495a.MOBG43UGBTGGB99V.SEARCH&ppt=None&ppn=None&ssid=s9kgf7b5ww0000001662641179725&qH=eb4af0bf07c16429'}, {'title': 'SAMSUNG Galaxy F22 (Denim Black, 64 GB)', 'price': '₹10,499', 'rating': '4.3', 'link': '/samsung-galaxy-f22-denim-black-64-gb/p/itm6f47a19cb79ae?pid=MOBG43UGC3PYCBZF&lid=LSTMOBG43UGC3PYCBZFSIRYTE&marketplace=FLIPKART&q=mobiles&store=tyy%2F4io&srno=s_1_2&otracker=search&otracker1=search&fm=organic&iid=c2497a6f-99e5-4f6e-b6cf-8fe232c5495a.MOBG43UGC3PYCBZF.SEARCH&ppt=None&ppn=None&ssid=s9kgf7b5ww0000001662641179725&qH=eb4af0bf07c16429'}, {'title': 'SAMSUNG Galaxy F22 (Denim Blue, 128 GB)', 'price': '₹12,499', 'rating': '4.3', 'link': '/samsung-galaxy-f22-denim-blue-128-gb/p/itm30c755943bea0?pid=MOBG43UGRSMJXTMH&lid=LSTMOBG43UGRSMJXTMH8AUDHE&marketplace=FLIPKART&q=mobiles&store=tyy%2F4io&srno=s_1_3&otracker=search&otracker1=search&fm=organic&iid=c2497a6f-99e5-4f6e-b6cf-8fe232c5495a.MOBG43UGRSMJXTMH.SEARCH&ppt=None&ppn=None&ssid=s9kgf7b5ww0000001662641179725&qH=eb4af0bf07c16429'}, {'title': 'IAIR S19', 'price': '₹1,539', 'rating': '3.9', 'link': '/iair-s19/p/itm6843130108a37?pid=MOBG87PZHQSUWZKN&lid=LSTMOBG87PZHQSUWZKNN5N3LB&marketplace=FLIPKART&q=mobiles&store=tyy%2F4io&srno=s_1_4&otracker=search&otracker1=search&fm=organic&iid=en_Z9Xam%2F3Ai2IWjSIPYvK%2FnXeF3XjnRYlzympJaRlnhefgK2ztnCE5eOOTtE5yRCs%2B4g8ONOoyyCQpHLl7P3asyA%3D%3D&ppt=None&ppn=None&ssid=s9kgf7b5ww0000001662641179725&qH=eb4af0bf07c16429'}, {'title': 'realme C31 (Light Silver, 32 GB)', 'price': '₹8,299', 'rating': '4.6', 'link': '/realme-c31-light-silver-32-gb/p/itme0f2960da9bbb?pid=MOBGCGVA3DANQNQH&lid=LSTMOBGCGVA3DANQNQHVUTE0C&marketplace=FLIPKART&q=mobiles&store=tyy%2F4io&srno=s_1_5&otracker=search&otracker1=search&fm=organic&iid=c2497a6f-99e5-4f6e-b6cf-8fe232c5495a.MOBGCGVA3DANQNQH.SEARCH&ppt=None&ppn=None&ssid=s9kgf7b5ww0000001662641179725&qH=eb4af0bf07c16429'}, {'title': 'realme C31 (Dark Green, 32 GB)', 'price': '₹8,299', 'rating': '4.6', 'link': '/realme-c31-dark-green-32-gb/p/itme0f2960da9bbb?pid=MOBGCGVAXYT3EGYR&lid=LSTMOBGCGVAXYT3EGYRKW4CXL&marketplace=FLIPKART&q=mobiles&store=tyy%2F4io&srno=s_1_6&otracker=search&otracker1=search&fm=organic&iid=c2497a6f-99e5-4f6e-b6cf-8fe232c5495a.MOBGCGVAXYT3EGYR.SEARCH&ppt=None&ppn=None&ssid=s9kgf7b5ww0000001662641179725&qH=eb4af0bf07c16429'}, {'title': 'Nokia 105 SS', 'price': '₹1,299', 'rating': '4.1', 'link': '/nokia-105-ss/p/itm9ac157d27f741?pid=MOBGC96FVTHVNXNH&lid=LSTMOBGC96FVTHVNXNHGPCV73&marketplace=FLIPKART&q=mobiles&store=tyy%2F4io&srno=s_1_7&otracker=search&otracker1=search&fm=organic&iid=c2497a6f-99e5-4f6e-b6cf-8fe232c5495a.MOBGC96FVTHVNXNH.SEARCH&ppt=None&ppn=None&ssid=s9kgf7b5ww0000001662641179725&qH=eb4af0bf07c16429'}, {'title': 'IAIR D23', 'price': '₹1,097', 'rating': '4', 'link': '/iair-d23/p/itmfde8fc33dc954?pid=MOBGCNZNZVWYSDGH&lid=LSTMOBGCNZNZVWYSDGH98HP1Z&marketplace=FLIPKART&q=mobiles&store=tyy%2F4io&srno=s_1_8&otracker=search&otracker1=search&fm=organic&iid=en_Z9Xam%2F3Ai2IWjSIPYvK%2FnXeF3XjnRYlzympJaRlnheebcA02B1sJQh2MER8JvUqZn1%2FVpZOvmZlARc6%2FWge%2F8A%3D%3D&ppt=None&ppn=None&ssid=s9kgf7b5ww0000001662641179725&qH=eb4af0bf07c16429'}, {'title': 'realme C31 (Light Silver, 64 GB)', 'price': '₹9,499', 'rating': '4.4', 'link': '/realme-c31-light-silver-64-gb/p/itme0f2960da9bbb?pid=MOBGCGVAGUHQ9HNJ&lid=LSTMOBGCGVAGUHQ9HNJMCFWUX&marketplace=FLIPKART&q=mobiles&store=tyy%2F4io&srno=s_1_9&otracker=search&otracker1=search&fm=organic&iid=c2497a6f-99e5-4f6e-b6cf-8fe232c5495a.MOBGCGVAGUHQ9HNJ.SEARCH&ppt=None&ppn=None&ssid=s9kgf7b5ww0000001662641179725&qH=eb4af0bf07c16429'}, {'title': 'realme C31 (Dark Green, 64 GB)', 'price': '₹9,499', 'rating': '4.4', 'link': '/realme-c31-dark-green-64-gb/p/itme0f2960da9bbb?pid=MOBGCGVAZXRCZJNE&lid=LSTMOBGCGVAZXRCZJNENAINFL&marketplace=FLIPKART&q=mobiles&store=tyy%2F4io&srno=s_1_10&otracker=search&otracker1=search&fm=organic&iid=c2497a6f-99e5-4f6e-b6cf-8fe232c5495a.MOBGCGVAZXRCZJNE.SEARCH&ppt=None&ppn=None&ssid=s9kgf7b5ww0000001662641179725&qH=eb4af0bf07c16429'}, {'title': 'IAIR D40', 'price': '₹1,319', 'rating': '3.9', 'link': '/iair-d40/p/itm253472ba19c6b?pid=MOBGCNZF3VZHZJZR&lid=LSTMOBGCNZF3VZHZJZROV1MTC&marketplace=FLIPKART&q=mobiles&store=tyy%2F4io&srno=s_1_11&otracker=search&otracker1=search&fm=organic&iid=en_Z9Xam%2F3Ai2IWjSIPYvK%2FnXeF3XjnRYlzympJaRlnhedsQrXseFTtHrggC3lg6RikxAZnM4WUT6omXT4VbN%2FcqQ%3D%3D&ppt=None&ppn=None&ssid=s9kgf7b5ww0000001662641179725&qH=eb4af0bf07c16429'}, {'title': 'IAIR Basic Feature Dual Sim Mobile Phone with 2800mAh Battery, 1.77 inch Display Screen, 0.8 mp Camera...', 'price': '₹1,699', 'rating': '3.8', 'link': '/iair-basic-feature-dual-sim-mobile-phone-2800mah-battery-1-77-inch-display-screen-0-8-mp-camera-big-led-torch-fpd12-red/p/itmcc820fc776838?pid=MOBFVYMBDJM6YRZX&lid=LSTMOBFVYMBDJM6YRZX29FDZ7&marketplace=FLIPKART&q=mobiles&store=tyy%2F4io&srno=s_1_12&otracker=search&otracker1=search&fm=organic&iid=en_Z9Xam%2F3Ai2IWjSIPYvK%2FnXeF3XjnRYlzympJaRlnhed5pNOHrpYzWKJ5vGdAKQDIfPFKl1eHEHyhz3gruLH5vg%3D%3D&ppt=None&ppn=None&ssid=s9kgf7b5ww0000001662641179725&qH=eb4af0bf07c16429'}, {'title': 'realme 9 (Sunburst Gold, 128 GB)', 'price': '₹14,499', 'rating': '4.4', 'link': '/realme-9-sunburst-gold-128-gb/p/itm73722a6d35d36?pid=MOBGDYSHHVWMECHS&lid=LSTMOBGDYSHHVWMECHSTFXBTZ&marketplace=FLIPKART&q=mobiles&store=tyy%2F4io&srno=s_1_13&otracker=search&otracker1=search&fm=organic&iid=c2497a6f-99e5-4f6e-b6cf-8fe232c5495a.MOBGDYSHHVWMECHS.SEARCH&ppt=None&ppn=None&ssid=s9kgf7b5ww0000001662641179725&qH=eb4af0bf07c16429'}, {'title': 'realme 9 5G (Supersonic Black, 64 GB)', 'price': '₹15,999', 'rating': '4.5', 'link': '/realme-9-5g-supersonic-black-64-gb/p/itm4f3814d50ff53?pid=MOBGDGZFCJH6R3HQ&lid=LSTMOBGDGZFCJH6R3HQONXRVH&marketplace=FLIPKART&q=mobiles&store=tyy%2F4io&srno=s_1_14&otracker=search&otracker1=search&fm=organic&iid=c2497a6f-99e5-4f6e-b6cf-8fe232c5495a.MOBGDGZFCJH6R3HQ.SEARCH&ppt=None&ppn=None&ssid=s9kgf7b5ww0000001662641179725&qH=eb4af0bf07c16429'}, {'title': 'realme 9 5G (Stargaze White, 64 GB)', 'price': '₹15,999', 'rating': '4.5', 'link': '/realme-9-5g-stargaze-white-64-gb/p/itm4f3814d50ff53?pid=MOBGC2Q5HG5RJZGW&lid=LSTMOBGC2Q5HG5RJZGWWUP6TT&marketplace=FLIPKART&q=mobiles&store=tyy%2F4io&srno=s_1_15&otracker=search&otracker1=search&fm=organic&iid=c2497a6f-99e5-4f6e-b6cf-8fe232c5495a.MOBGC2Q5HG5RJZGW.SEARCH&ppt=None&ppn=None&ssid=s9kgf7b5ww0000001662641179725&qH=eb4af0bf07c16429'}, {'title': 'realme 9 (Sunburst Gold, 128 GB)', 'price': '₹17,999', 'rating': '4.4', 'link': '/realme-9-sunburst-gold-128-gb/p/itm73722a6d35d36?pid=MOBGDYSH8EWQZ4XU&lid=LSTMOBGDYSH8EWQZ4XUTALWYH&marketplace=FLIPKART&q=mobiles&store=tyy%2F4io&srno=s_1_16&otracker=search&otracker1=search&fm=organic&iid=c2497a6f-99e5-4f6e-b6cf-8fe232c5495a.MOBGDYSH8EWQZ4XU.SEARCH&ppt=None&ppn=None&ssid=s9kgf7b5ww0000001662641179725&qH=eb4af0bf07c16429'}, {'title': 'realme C30 (Bamboo Green, 32 GB)', 'price': '₹6,799', 'rating': '4.4', 'link': '/realme-c30-bamboo-green-32-gb/p/itmfcf69b2db5059?pid=MOBGF37G7FRK8FBJ&lid=LSTMOBGF37G7FRK8FBJTETJBD&marketplace=FLIPKART&q=mobiles&store=tyy%2F4io&srno=s_1_17&otracker=search&otracker1=search&fm=organic&iid=c2497a6f-99e5-4f6e-b6cf-8fe232c5495a.MOBGF37G7FRK8FBJ.SEARCH&ppt=None&ppn=None&ssid=s9kgf7b5ww0000001662641179725&qH=eb4af0bf07c16429'}, {'title': 'IAIR D41', 'price': '₹1,319', 'rating': '3.7', 'link': '/iair-d41/p/itm0b7495cebc66e?pid=MOBGCNZQMEYADXKH&lid=LSTMOBGCNZQMEYADXKHU6I8G1&marketplace=FLIPKART&q=mobiles&store=tyy%2F4io&srno=s_1_18&otracker=search&otracker1=search&fm=organic&iid=en_Z9Xam%2F3Ai2IWjSIPYvK%2FnXeF3XjnRYlzympJaRlnheemokEQjfEZImQ%2FpAfBzpuFDfeblhgdUwPAt1kCe%2B9OLA%3D%3D&ppt=None&ppn=None&ssid=s9kgf7b5ww0000001662641179725&qH=eb4af0bf07c16429'}, {'title': 'realme Narzo 50A (Oxygen Blue, 64 GB)', 'price': '₹11,499', 'rating': '4.4', 'link': '/realme-narzo-50a-oxygen-blue-64-gb/p/itm81d679403c2b4?pid=MOBG6MY4UGGFQWYY&lid=LSTMOBG6MY4UGGFQWYYY23BSG&marketplace=FLIPKART&q=mobiles&store=tyy%2F4io&srno=s_1_19&otracker=search&otracker1=search&fm=organic&iid=c2497a6f-99e5-4f6e-b6cf-8fe232c5495a.MOBG6MY4UGGFQWYY.SEARCH&ppt=None&ppn=None&ssid=s9kgf7b5ww0000001662641179725&qH=eb4af0bf07c16429'}, {'title': 'realme 9 5G (Supersonic Blue, 64 GB)', 'price': '₹15,999', 'rating': '4.5', 'link': '/realme-9-5g-supersonic-blue-64-gb/p/itm4f3814d50ff53?pid=MOBGDGZFXYZ4NFYM&lid=LSTMOBGDGZFXYZ4NFYMHOVCPY&marketplace=FLIPKART&q=mobiles&store=tyy%2F4io&srno=s_1_20&otracker=search&otracker1=search&fm=organic&iid=c2497a6f-99e5-4f6e-b6cf-8fe232c5495a.MOBGDGZFXYZ4NFYM.SEARCH&ppt=None&ppn=None&ssid=s9kgf7b5ww0000001662641179725&qH=eb4af0bf07c16429'}, {'title': 'IAIR D10', 'price': '₹1,072', 'rating': '4.2', 'link': '/iair-d10/p/itm68a13990b3f15?pid=MOBG7CMFC3KG9P3U&lid=LSTMOBG7CMFC3KG9P3UN9LTGZ&marketplace=FLIPKART&q=mobiles&store=tyy%2F4io&srno=s_1_21&otracker=search&otracker1=search&fm=organic&iid=en_Z9Xam%2F3Ai2IWjSIPYvK%2FnXeF3XjnRYlzympJaRlnhecozl7bk4i7s3p8nO8cKPeSOHAT7cSatu0Ig7Xav%2BoiMA%3D%3D&ppt=None&ppn=None&ssid=s9kgf7b5ww0000001662641179725&qH=eb4af0bf07c16429'}, {'title': 'Cellecor E5', 'price': '₹1,319', 'rating': '4', 'link': '/cellecor-e5/p/itm06eac40addce4?pid=MOBGFH9UX78GTYJG&lid=LSTMOBGFH9UX78GTYJGCXF693&marketplace=FLIPKART&q=mobiles&store=tyy%2F4io&srno=s_1_22&otracker=search&otracker1=search&fm=organic&iid=en_Z9Xam%2F3Ai2IWjSIPYvK%2FnXeF3XjnRYlzympJaRlnhedXxCOUSIoHXSSEqCLLrSzfAeHrWVRPpY7J8OMPD5t8Lw%3D%3D&ppt=None&ppn=None&ssid=s9kgf7b5ww0000001662641179725&qH=eb4af0bf07c16429'}, {'title': 'realme 9 5G (Meteor Black, 64 GB)', 'price': '₹15,999', 'rating': '4.5', 'link': '/realme-9-5g-meteor-black-64-gb/p/itm4f3814d50ff53?pid=MOBGC2Q5TGTGRBHR&lid=LSTMOBGC2Q5TGTGRBHRG6OMV4&marketplace=FLIPKART&q=mobiles&store=tyy%2F4io&srno=s_1_23&otracker=search&otracker1=search&fm=organic&iid=c2497a6f-99e5-4f6e-b6cf-8fe232c5495a.MOBGC2Q5TGTGRBHR.SEARCH&ppt=None&ppn=None&ssid=s9kgf7b5ww0000001662641179725&qH=eb4af0bf07c16429'}, {'title': 'SAMSUNG Galaxy F22 (Denim Black, 128 GB)', 'price': '₹12,499', 'rating': '4.3', 'link': '/samsung-galaxy-f22-denim-black-128-gb/p/itm9f921a1b4f96c?pid=MOBG43UGFGYU4K4B&lid=LSTMOBG43UGFGYU4K4B0FR1R0&marketplace=FLIPKART&q=mobiles&store=tyy%2F4io&srno=s_1_24&otracker=search&otracker1=search&fm=organic&iid=c2497a6f-99e5-4f6e-b6cf-8fe232c5495a.MOBG43UGFGYU4K4B.SEARCH&ppt=None&ppn=None&ssid=s9kgf7b5ww0000001662641179725&qH=eb4af0bf07c16429'}]\n"
     ]
    }
   ],
   "source": [
    "out= extract_many(soup, target=target, items=items, title=title, price=price, rating=rating, link=link)\n",
    "\n",
    "print(out)"
   ]
  },
  {
   "cell_type": "code",
   "execution_count": 6,
   "metadata": {},
   "outputs": [
    {
     "name": "stdout",
     "output_type": "stream",
     "text": [
      "                                                title    price rating  \\\n",
      "0              SAMSUNG Galaxy F22 (Denim Blue, 64 GB)  ₹10,499    4.3   \n",
      "1             SAMSUNG Galaxy F22 (Denim Black, 64 GB)  ₹10,499    4.3   \n",
      "2             SAMSUNG Galaxy F22 (Denim Blue, 128 GB)  ₹12,499    4.3   \n",
      "3                                            IAIR S19   ₹1,539    3.9   \n",
      "4                    realme C31 (Light Silver, 32 GB)   ₹8,299    4.6   \n",
      "5                      realme C31 (Dark Green, 32 GB)   ₹8,299    4.6   \n",
      "6                                        Nokia 105 SS   ₹1,299    4.1   \n",
      "7                                            IAIR D23   ₹1,097      4   \n",
      "8                    realme C31 (Light Silver, 64 GB)   ₹9,499    4.4   \n",
      "9                      realme C31 (Dark Green, 64 GB)   ₹9,499    4.4   \n",
      "10                                           IAIR D40   ₹1,319    3.9   \n",
      "11  IAIR Basic Feature Dual Sim Mobile Phone with ...   ₹1,699    3.8   \n",
      "12                   realme 9 (Sunburst Gold, 128 GB)  ₹14,499    4.4   \n",
      "13              realme 9 5G (Supersonic Black, 64 GB)  ₹15,999    4.5   \n",
      "14                realme 9 5G (Stargaze White, 64 GB)  ₹15,999    4.5   \n",
      "15                   realme 9 (Sunburst Gold, 128 GB)  ₹17,999    4.4   \n",
      "16                   realme C30 (Bamboo Green, 32 GB)   ₹6,799    4.4   \n",
      "17                                           IAIR D41   ₹1,319    3.7   \n",
      "18              realme Narzo 50A (Oxygen Blue, 64 GB)  ₹11,499    4.4   \n",
      "19               realme 9 5G (Supersonic Blue, 64 GB)  ₹15,999    4.5   \n",
      "20                                           IAIR D10   ₹1,072    4.2   \n",
      "21                                        Cellecor E5   ₹1,319      4   \n",
      "22                  realme 9 5G (Meteor Black, 64 GB)  ₹15,999    4.5   \n",
      "23           SAMSUNG Galaxy F22 (Denim Black, 128 GB)  ₹12,499    4.3   \n",
      "\n",
      "                                                 link  \n",
      "0   /samsung-galaxy-f22-denim-blue-64-gb/p/itmce0a...  \n",
      "1   /samsung-galaxy-f22-denim-black-64-gb/p/itm6f4...  \n",
      "2   /samsung-galaxy-f22-denim-blue-128-gb/p/itm30c...  \n",
      "3   /iair-s19/p/itm6843130108a37?pid=MOBG87PZHQSUW...  \n",
      "4   /realme-c31-light-silver-32-gb/p/itme0f2960da9...  \n",
      "5   /realme-c31-dark-green-32-gb/p/itme0f2960da9bb...  \n",
      "6   /nokia-105-ss/p/itm9ac157d27f741?pid=MOBGC96FV...  \n",
      "7   /iair-d23/p/itmfde8fc33dc954?pid=MOBGCNZNZVWYS...  \n",
      "8   /realme-c31-light-silver-64-gb/p/itme0f2960da9...  \n",
      "9   /realme-c31-dark-green-64-gb/p/itme0f2960da9bb...  \n",
      "10  /iair-d40/p/itm253472ba19c6b?pid=MOBGCNZF3VZHZ...  \n",
      "11  /iair-basic-feature-dual-sim-mobile-phone-2800...  \n",
      "12  /realme-9-sunburst-gold-128-gb/p/itm73722a6d35...  \n",
      "13  /realme-9-5g-supersonic-black-64-gb/p/itm4f381...  \n",
      "14  /realme-9-5g-stargaze-white-64-gb/p/itm4f3814d...  \n",
      "15  /realme-9-sunburst-gold-128-gb/p/itm73722a6d35...  \n",
      "16  /realme-c30-bamboo-green-32-gb/p/itmfcf69b2db5...  \n",
      "17  /iair-d41/p/itm0b7495cebc66e?pid=MOBGCNZQMEYAD...  \n",
      "18  /realme-narzo-50a-oxygen-blue-64-gb/p/itm81d67...  \n",
      "19  /realme-9-5g-supersonic-blue-64-gb/p/itm4f3814...  \n",
      "20  /iair-d10/p/itm68a13990b3f15?pid=MOBG7CMFC3KG9...  \n",
      "21  /cellecor-e5/p/itm06eac40addce4?pid=MOBGFH9UX7...  \n",
      "22  /realme-9-5g-meteor-black-64-gb/p/itm4f3814d50...  \n",
      "23  /samsung-galaxy-f22-denim-black-128-gb/p/itm9f...  \n"
     ]
    }
   ],
   "source": [
    "import pandas as pd\n",
    "df = pd.DataFrame(out)\n",
    "print(df)"
   ]
  },
  {
   "cell_type": "code",
   "execution_count": null,
   "metadata": {},
   "outputs": [],
   "source": []
  }
 ],
 "metadata": {
  "kernelspec": {
   "display_name": "Python 3.9.13 ('base')",
   "language": "python",
   "name": "python3"
  },
  "language_info": {
   "codemirror_mode": {
    "name": "ipython",
    "version": 3
   },
   "file_extension": ".py",
   "mimetype": "text/x-python",
   "name": "python",
   "nbconvert_exporter": "python",
   "pygments_lexer": "ipython3",
   "version": "3.9.13"
  },
  "orig_nbformat": 4,
  "vscode": {
   "interpreter": {
    "hash": "70f018fd7121d982665974a4a43426885471417973fa08103dfbe522c14d001e"
   }
  }
 },
 "nbformat": 4,
 "nbformat_minor": 2
}
