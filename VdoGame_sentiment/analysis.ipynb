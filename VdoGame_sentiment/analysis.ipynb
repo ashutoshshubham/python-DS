{
 "cells": [
  {
   "cell_type": "code",
   "execution_count": 22,
   "metadata": {},
   "outputs": [],
   "source": [
    "import streamlit as st\n",
    "import numpy as np\n",
    "import pandas as pd\n",
    "import plotly.express as px\n",
    "import re      \n",
    "from textblob import TextBlob"
   ]
  },
  {
   "cell_type": "code",
   "execution_count": 23,
   "metadata": {},
   "outputs": [],
   "source": [
    "# game_df = pd.read_csv(\"videogame_tweets.csv\")\n"
   ]
  },
  {
   "cell_type": "code",
   "execution_count": 24,
   "metadata": {},
   "outputs": [],
   "source": [
    "# game_df.rename(columns={'text':'Tweets'}, inplace = True)\n"
   ]
  },
  {
   "cell_type": "code",
   "execution_count": 25,
   "metadata": {},
   "outputs": [],
   "source": [
    "# game_df.drop(columns=['timestamp','retweets','likes','clean_text'], inplace= True)\n",
    "# game_df.head()"
   ]
  },
  {
   "cell_type": "code",
   "execution_count": 26,
   "metadata": {},
   "outputs": [],
   "source": [
    "def remove_mentions(tweet):\n",
    "    return re.sub('@[A-Za-z0-9_]+',\" \",tweet)"
   ]
  },
  {
   "cell_type": "code",
   "execution_count": 27,
   "metadata": {},
   "outputs": [],
   "source": [
    "def remove_hashtags(tweet): \n",
    "    return re.sub('#[A-Za-z0-9_]+',\" \",tweet)"
   ]
  },
  {
   "cell_type": "code",
   "execution_count": 28,
   "metadata": {},
   "outputs": [],
   "source": [
    "def remove_links(tweet): \n",
    "    tweet = re.sub('[()!?]',\" \",tweet)           \n",
    "    tweet = re.sub(r'http\\S+',\" \",tweet)         \n",
    "    tweet = re.sub(r'www.\\S+',\" \",tweet)         \n",
    "    tweet = re.sub(r'\\[.*?\\]',' ', tweet)        \n",
    "    return re.sub(r'[^a-z0-9]',\" \",tweet)   "
   ]
  },
  {
   "cell_type": "code",
   "execution_count": 29,
   "metadata": {},
   "outputs": [],
   "source": [
    "def get_sentiment(tweet):\n",
    "    blob = TextBlob(tweet)\n",
    "    return blob.sentiment.polarity"
   ]
  },
  {
   "cell_type": "code",
   "execution_count": 30,
   "metadata": {},
   "outputs": [],
   "source": [
    "def get_sentiment_name(sentiment):\n",
    "    if sentiment == 0:\n",
    "        return \"Neutral 😎\"\n",
    "    elif sentiment > 0:\n",
    "        return \"Positive🤗\"\n",
    "    else:\n",
    "        return \"Negative🤬\""
   ]
  },
  {
   "cell_type": "code",
   "execution_count": 33,
   "metadata": {},
   "outputs": [],
   "source": [
    "def load_data():\n",
    "    df = pd.read_csv(\"videogame_tweets.csv\")\n",
    "    df.rename(columns={'text':'Tweets'}, inplace = True)\n",
    "    df.drop(columns=['timestamp','retweets','likes','clean_text'], inplace= True)\n",
    "    df['Tweets'] = df['Tweets'].str.lower()\n",
    "    df['Tweets'] = df['Tweets'].apply(remove_hashtags)\n",
    "    df['Tweets'] = df['Tweets'].apply(remove_mentions)\n",
    "    df['Tweets'] = df['Tweets'].apply(remove_links)\n",
    "    df['Sentiment'] = df['Tweets'].apply(get_sentiment)\n",
    "    df['SentimentName'] = df[\"Sentiment\"].apply(get_sentiment_name)\n",
    "    return df"
   ]
  },
  {
   "cell_type": "code",
   "execution_count": null,
   "metadata": {},
   "outputs": [],
   "source": []
  }
 ],
 "metadata": {
  "kernelspec": {
   "display_name": "Python 3.9.13 ('base')",
   "language": "python",
   "name": "python3"
  },
  "language_info": {
   "codemirror_mode": {
    "name": "ipython",
    "version": 3
   },
   "file_extension": ".py",
   "mimetype": "text/x-python",
   "name": "python",
   "nbconvert_exporter": "python",
   "pygments_lexer": "ipython3",
   "version": "3.9.13"
  },
  "orig_nbformat": 4,
  "vscode": {
   "interpreter": {
    "hash": "70f018fd7121d982665974a4a43426885471417973fa08103dfbe522c14d001e"
   }
  }
 },
 "nbformat": 4,
 "nbformat_minor": 2
}
